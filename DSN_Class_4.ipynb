{
  "nbformat": 4,
  "nbformat_minor": 0,
  "metadata": {
    "colab": {
      "name": "DSN_Class_4.ipynb",
      "provenance": [],
      "collapsed_sections": [],
      "authorship_tag": "ABX9TyPUw5yzbluCWcqFALe38aXc",
      "include_colab_link": true
    },
    "kernelspec": {
      "name": "python3",
      "display_name": "Python 3"
    }
  },
  "cells": [
    {
      "cell_type": "markdown",
      "metadata": {
        "id": "view-in-github",
        "colab_type": "text"
      },
      "source": [
        "<a href=\"https://colab.research.google.com/github/taiye-official/DSN-Class-exercises/blob/master/DSN_Class_4.ipynb\" target=\"_parent\"><img src=\"https://colab.research.google.com/assets/colab-badge.svg\" alt=\"Open In Colab\"/></a>"
      ]
    },
    {
      "cell_type": "markdown",
      "metadata": {
        "id": "Cf8kXQiRBX3g",
        "colab_type": "text"
      },
      "source": [
        "Lists"
      ]
    },
    {
      "cell_type": "code",
      "metadata": {
        "id": "_bw1NCGINyyH",
        "colab_type": "code",
        "outputId": "24da185c-d435-4ab8-f1d4-100dd3ef2480",
        "colab": {
          "base_uri": "https://localhost:8080/",
          "height": 35
        }
      },
      "source": [
        "a_list = []\n",
        "type (a_list)"
      ],
      "execution_count": 23,
      "outputs": [
        {
          "output_type": "execute_result",
          "data": {
            "text/plain": [
              "list"
            ]
          },
          "metadata": {
            "tags": []
          },
          "execution_count": 23
        }
      ]
    },
    {
      "cell_type": "code",
      "metadata": {
        "id": "5cfAOqB7N8MN",
        "colab_type": "code",
        "outputId": "658c9fb4-325c-4dc6-dc4a-a77bd271431d",
        "colab": {
          "base_uri": "https://localhost:8080/",
          "height": 35
        }
      },
      "source": [
        "my_name = ['Taiye', 'Emmanuel', 'Oluwapamilerinayo', 'Opabunmi']\n",
        "my_name"
      ],
      "execution_count": 24,
      "outputs": [
        {
          "output_type": "execute_result",
          "data": {
            "text/plain": [
              "['Taiye', 'Emmanuel', 'Oluwapamilerinayo', 'Opabunmi']"
            ]
          },
          "metadata": {
            "tags": []
          },
          "execution_count": 24
        }
      ]
    },
    {
      "cell_type": "code",
      "metadata": {
        "id": "_Dl4vjoOOvvF",
        "colab_type": "code",
        "outputId": "3387ca7f-edff-439f-e157-f7468e246b46",
        "colab": {
          "base_uri": "https://localhost:8080/",
          "height": 35
        }
      },
      "source": [
        "len (my_name)"
      ],
      "execution_count": 25,
      "outputs": [
        {
          "output_type": "execute_result",
          "data": {
            "text/plain": [
              "4"
            ]
          },
          "metadata": {
            "tags": []
          },
          "execution_count": 25
        }
      ]
    },
    {
      "cell_type": "code",
      "metadata": {
        "id": "vUZLOM4TPLXC",
        "colab_type": "code",
        "outputId": "b0233548-2ad2-4419-deb2-40f687838961",
        "colab": {
          "base_uri": "https://localhost:8080/",
          "height": 35
        }
      },
      "source": [
        "my_name [2]"
      ],
      "execution_count": 26,
      "outputs": [
        {
          "output_type": "execute_result",
          "data": {
            "text/plain": [
              "'Oluwapamilerinayo'"
            ]
          },
          "metadata": {
            "tags": []
          },
          "execution_count": 26
        }
      ]
    },
    {
      "cell_type": "code",
      "metadata": {
        "id": "9EjLkJCsPNX1",
        "colab_type": "code",
        "outputId": "20d4e881-dd09-430b-c614-6d257fe199aa",
        "colab": {
          "base_uri": "https://localhost:8080/",
          "height": 35
        }
      },
      "source": [
        "my_name[0:2]"
      ],
      "execution_count": 27,
      "outputs": [
        {
          "output_type": "execute_result",
          "data": {
            "text/plain": [
              "['Taiye', 'Emmanuel']"
            ]
          },
          "metadata": {
            "tags": []
          },
          "execution_count": 27
        }
      ]
    },
    {
      "cell_type": "code",
      "metadata": {
        "id": "0sNtIg09PR6O",
        "colab_type": "code",
        "outputId": "ad9b3319-b227-4376-9d85-1b9fea9062fa",
        "colab": {
          "base_uri": "https://localhost:8080/",
          "height": 35
        }
      },
      "source": [
        "my_name.append('Bamidele')\n",
        "my_name"
      ],
      "execution_count": 28,
      "outputs": [
        {
          "output_type": "execute_result",
          "data": {
            "text/plain": [
              "['Taiye', 'Emmanuel', 'Oluwapamilerinayo', 'Opabunmi', 'Bamidele']"
            ]
          },
          "metadata": {
            "tags": []
          },
          "execution_count": 28
        }
      ]
    },
    {
      "cell_type": "code",
      "metadata": {
        "id": "51zG3FBoP9FV",
        "colab_type": "code",
        "outputId": "e0aefc8b-3488-42d6-9c63-a2b14fc3572d",
        "colab": {
          "base_uri": "https://localhost:8080/",
          "height": 35
        }
      },
      "source": [
        "my_name.pop()\n",
        "my_name"
      ],
      "execution_count": 29,
      "outputs": [
        {
          "output_type": "execute_result",
          "data": {
            "text/plain": [
              "['Taiye', 'Emmanuel', 'Oluwapamilerinayo', 'Opabunmi']"
            ]
          },
          "metadata": {
            "tags": []
          },
          "execution_count": 29
        }
      ]
    },
    {
      "cell_type": "code",
      "metadata": {
        "id": "RoTK0Iw7QaOh",
        "colab_type": "code",
        "outputId": "5a5c3134-8f62-4185-c078-4e7e89003348",
        "colab": {
          "base_uri": "https://localhost:8080/",
          "height": 35
        }
      },
      "source": [
        "my_name.sort()\n",
        "my_name"
      ],
      "execution_count": 30,
      "outputs": [
        {
          "output_type": "execute_result",
          "data": {
            "text/plain": [
              "['Emmanuel', 'Oluwapamilerinayo', 'Opabunmi', 'Taiye']"
            ]
          },
          "metadata": {
            "tags": []
          },
          "execution_count": 30
        }
      ]
    },
    {
      "cell_type": "code",
      "metadata": {
        "id": "m6_bKRH8QpFz",
        "colab_type": "code",
        "outputId": "136364ee-ac91-494a-d53f-d2751193f401",
        "colab": {
          "base_uri": "https://localhost:8080/",
          "height": 35
        }
      },
      "source": [
        "my_name.sort(reverse = True)\n",
        "my_name"
      ],
      "execution_count": 31,
      "outputs": [
        {
          "output_type": "execute_result",
          "data": {
            "text/plain": [
              "['Taiye', 'Opabunmi', 'Oluwapamilerinayo', 'Emmanuel']"
            ]
          },
          "metadata": {
            "tags": []
          },
          "execution_count": 31
        }
      ]
    },
    {
      "cell_type": "code",
      "metadata": {
        "id": "mJqpajqlQvbE",
        "colab_type": "code",
        "outputId": "7760d463-c54c-47e3-dd81-0042815d60eb",
        "colab": {
          "base_uri": "https://localhost:8080/",
          "height": 35
        }
      },
      "source": [
        "my_name.insert(2, 'Olushola')\n",
        "my_name"
      ],
      "execution_count": 32,
      "outputs": [
        {
          "output_type": "execute_result",
          "data": {
            "text/plain": [
              "['Taiye', 'Opabunmi', 'Olushola', 'Oluwapamilerinayo', 'Emmanuel']"
            ]
          },
          "metadata": {
            "tags": []
          },
          "execution_count": 32
        }
      ]
    },
    {
      "cell_type": "markdown",
      "metadata": {
        "id": "xfARxOt6Be_u",
        "colab_type": "text"
      },
      "source": [
        "Loops"
      ]
    },
    {
      "cell_type": "code",
      "metadata": {
        "id": "QGJtyD32TKkm",
        "colab_type": "code",
        "outputId": "9138312e-9b26-4e05-d91a-e7636bbb57fb",
        "colab": {
          "base_uri": "https://localhost:8080/",
          "height": 219
        }
      },
      "source": [
        "a = 2\n",
        "while a <= 20:\n",
        "  print ('this number {} is less than 20'.format(a))\n",
        "  a = a + 2\n",
        "else:\n",
        "  print ('{} is greater than 20'.format(a))"
      ],
      "execution_count": 33,
      "outputs": [
        {
          "output_type": "stream",
          "text": [
            "this number 2 is less than 20\n",
            "this number 4 is less than 20\n",
            "this number 6 is less than 20\n",
            "this number 8 is less than 20\n",
            "this number 10 is less than 20\n",
            "this number 12 is less than 20\n",
            "this number 14 is less than 20\n",
            "this number 16 is less than 20\n",
            "this number 18 is less than 20\n",
            "this number 20 is less than 20\n",
            "22 is greater than 20\n"
          ],
          "name": "stdout"
        }
      ]
    },
    {
      "cell_type": "code",
      "metadata": {
        "id": "YfspXS4-AUc8",
        "colab_type": "code",
        "outputId": "c9796323-76b4-46ea-ffe1-43905747f9e6",
        "colab": {
          "base_uri": "https://localhost:8080/",
          "height": 109
        }
      },
      "source": [
        "my_name\n",
        "for name in my_name:\n",
        "  print (name*2)"
      ],
      "execution_count": 34,
      "outputs": [
        {
          "output_type": "stream",
          "text": [
            "TaiyeTaiye\n",
            "OpabunmiOpabunmi\n",
            "OlusholaOlushola\n",
            "OluwapamilerinayoOluwapamilerinayo\n",
            "EmmanuelEmmanuel\n"
          ],
          "name": "stdout"
        }
      ]
    },
    {
      "cell_type": "code",
      "metadata": {
        "id": "CnoNBHY7Egb0",
        "colab_type": "code",
        "colab": {}
      },
      "source": [
        ""
      ],
      "execution_count": 0,
      "outputs": []
    }
  ]
}