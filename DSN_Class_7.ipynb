{
  "nbformat": 4,
  "nbformat_minor": 0,
  "metadata": {
    "colab": {
      "name": "DSN_Class_7.ipynb",
      "provenance": [],
      "collapsed_sections": [],
      "authorship_tag": "ABX9TyNpFvDOp23HMZho9Hztj0sI",
      "include_colab_link": true
    },
    "kernelspec": {
      "name": "python3",
      "display_name": "Python 3"
    }
  },
  "cells": [
    {
      "cell_type": "markdown",
      "metadata": {
        "id": "view-in-github",
        "colab_type": "text"
      },
      "source": [
        "<a href=\"https://colab.research.google.com/github/taiye-official/DSN-Class-exercises/blob/master/DSN_Class_7.ipynb\" target=\"_parent\"><img src=\"https://colab.research.google.com/assets/colab-badge.svg\" alt=\"Open In Colab\"/></a>"
      ]
    },
    {
      "cell_type": "markdown",
      "metadata": {
        "id": "x3_gLvAnQAyS",
        "colab_type": "text"
      },
      "source": [
        "Functions"
      ]
    },
    {
      "cell_type": "code",
      "metadata": {
        "id": "dtTqi_CgPr7Y",
        "colab_type": "code",
        "colab": {}
      },
      "source": [
        "def calc_sum (a, b):\n",
        "  #calculate the sum of a and b\n",
        "  return a + b"
      ],
      "execution_count": 0,
      "outputs": []
    },
    {
      "cell_type": "code",
      "metadata": {
        "id": "K-7GjwkYSA-B",
        "colab_type": "code",
        "outputId": "cb49bceb-5533-4b7a-a99d-5bfbb53c8f79",
        "colab": {
          "base_uri": "https://localhost:8080/",
          "height": 35
        }
      },
      "source": [
        "a = 4\n",
        "b = 5\n",
        "calc_sum(a, b)"
      ],
      "execution_count": 0,
      "outputs": [
        {
          "output_type": "execute_result",
          "data": {
            "text/plain": [
              "9"
            ]
          },
          "metadata": {
            "tags": []
          },
          "execution_count": 2
        }
      ]
    },
    {
      "cell_type": "code",
      "metadata": {
        "id": "tPeZ8eBdSJAW",
        "colab_type": "code",
        "outputId": "5c6ffd35-8a71-4489-c615-c35133c66fde",
        "colab": {
          "base_uri": "https://localhost:8080/",
          "height": 35
        }
      },
      "source": [
        "calc_sum (30, 45)"
      ],
      "execution_count": 0,
      "outputs": [
        {
          "output_type": "execute_result",
          "data": {
            "text/plain": [
              "75"
            ]
          },
          "metadata": {
            "tags": []
          },
          "execution_count": 3
        }
      ]
    },
    {
      "cell_type": "code",
      "metadata": {
        "id": "T6QvtyedSODZ",
        "colab_type": "code",
        "outputId": "d2e3069e-72cb-44a4-d948-dd1315cc88c3",
        "colab": {
          "base_uri": "https://localhost:8080/",
          "height": 35
        }
      },
      "source": [
        "calc_sum (48, 57)"
      ],
      "execution_count": 0,
      "outputs": [
        {
          "output_type": "execute_result",
          "data": {
            "text/plain": [
              "105"
            ]
          },
          "metadata": {
            "tags": []
          },
          "execution_count": 4
        }
      ]
    },
    {
      "cell_type": "code",
      "metadata": {
        "id": "LknAWMvIUDT1",
        "colab_type": "code",
        "colab": {}
      },
      "source": [
        "def calc_difference (a, b):\n",
        "  #calculate the difference between a and b\n",
        "  print (a - b)\n",
        "  return "
      ],
      "execution_count": 0,
      "outputs": []
    },
    {
      "cell_type": "code",
      "metadata": {
        "id": "67crjyazWsjO",
        "colab_type": "code",
        "outputId": "4c228bda-3170-43e4-8414-7bdc63ce7a74",
        "colab": {
          "base_uri": "https://localhost:8080/",
          "height": 35
        }
      },
      "source": [
        "calc_difference(20, 6)"
      ],
      "execution_count": 0,
      "outputs": [
        {
          "output_type": "stream",
          "text": [
            "14\n"
          ],
          "name": "stdout"
        }
      ]
    },
    {
      "cell_type": "code",
      "metadata": {
        "id": "2YqHr6qeWx8n",
        "colab_type": "code",
        "colab": {}
      },
      "source": [
        "def change_address (address):\n",
        "  # Changes address and state previous one\n",
        "  print (\"the destination typed in is {}\".format(address))\n",
        "  address = \"calabasas\"\n",
        "  print (\"the address in this function is {}\".format(address))\n",
        "  return"
      ],
      "execution_count": 0,
      "outputs": []
    },
    {
      "cell_type": "code",
      "metadata": {
        "id": "yQKJ49dnXr9l",
        "colab_type": "code",
        "outputId": "a5be8441-30d9-427b-f82a-9fcd99b6cc70",
        "colab": {
          "base_uri": "https://localhost:8080/",
          "height": 54
        }
      },
      "source": [
        "change_address (\"birmingham\")"
      ],
      "execution_count": 0,
      "outputs": [
        {
          "output_type": "stream",
          "text": [
            "the destination typed in is birmingham\n",
            "the address in this function is calabasas\n"
          ],
          "name": "stdout"
        }
      ]
    },
    {
      "cell_type": "code",
      "metadata": {
        "id": "AumhIpQMXv11",
        "colab_type": "code",
        "outputId": "eb00921e-a09b-4a03-ee74-1c2a47d9b538",
        "colab": {
          "base_uri": "https://localhost:8080/",
          "height": 54
        }
      },
      "source": [
        "#Global and local variables\n",
        "sum = 0 #This is a global variable\n",
        "def add_num (a, b, c):\n",
        "  #Calculates the sum of the three variables\n",
        "  print (\"the sum of the local variables is {}\".format(a + b + c))\n",
        "  return\n",
        "\n",
        "add_num(5, 6, 9)\n",
        "print (\"the sum of the global variable is {}\". format(sum))"
      ],
      "execution_count": 0,
      "outputs": [
        {
          "output_type": "stream",
          "text": [
            "the sum of the local variables is 20\n",
            "the sum of the global variable is 0\n"
          ],
          "name": "stdout"
        }
      ]
    },
    {
      "cell_type": "code",
      "metadata": {
        "id": "u-kSeVLRaw5X",
        "colab_type": "code",
        "colab": {}
      },
      "source": [
        ""
      ],
      "execution_count": 0,
      "outputs": []
    }
  ]
}