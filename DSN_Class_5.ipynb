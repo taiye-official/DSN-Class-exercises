{
  "nbformat": 4,
  "nbformat_minor": 0,
  "metadata": {
    "colab": {
      "name": "DSN_Class_5.ipynb",
      "provenance": [],
      "collapsed_sections": [],
      "authorship_tag": "ABX9TyOSjKo8xu6Ks0zD6p616Fvv",
      "include_colab_link": true
    },
    "kernelspec": {
      "name": "python3",
      "display_name": "Python 3"
    }
  },
  "cells": [
    {
      "cell_type": "markdown",
      "metadata": {
        "id": "view-in-github",
        "colab_type": "text"
      },
      "source": [
        "<a href=\"https://colab.research.google.com/github/taiye-official/DSN-Class-exercises/blob/master/DSN_Class_5.ipynb\" target=\"_parent\"><img src=\"https://colab.research.google.com/assets/colab-badge.svg\" alt=\"Open In Colab\"/></a>"
      ]
    },
    {
      "cell_type": "markdown",
      "metadata": {
        "id": "5bq4HvcRMjkP",
        "colab_type": "text"
      },
      "source": [
        "Dictionaries"
      ]
    },
    {
      "cell_type": "code",
      "metadata": {
        "id": "XerW8PM8HUcB",
        "colab_type": "code",
        "outputId": "3070d4f8-c04a-47cf-e3c2-049fe20ffeb2",
        "colab": {
          "base_uri": "https://localhost:8080/",
          "height": 109
        }
      },
      "source": [
        "my_dict = {'name': 'Taiye', 'state': 'Oyo', 'sex': 'male', 'age': 27, 'career': 'medical doctor cum data scientist'}\n",
        "my_dict"
      ],
      "execution_count": 0,
      "outputs": [
        {
          "output_type": "execute_result",
          "data": {
            "text/plain": [
              "{'age': 27,\n",
              " 'career': 'medical doctor cum data scientist',\n",
              " 'name': 'Taiye',\n",
              " 'sex': 'male',\n",
              " 'state': 'Oyo'}"
            ]
          },
          "metadata": {
            "tags": []
          },
          "execution_count": 2
        }
      ]
    },
    {
      "cell_type": "code",
      "metadata": {
        "id": "fTFrPnA1NHuH",
        "colab_type": "code",
        "outputId": "35016893-6edd-4716-ff6c-0acb7ee7400b",
        "colab": {
          "base_uri": "https://localhost:8080/",
          "height": 109
        }
      },
      "source": [
        "my_dict['sex'] = 'female'\n",
        "my_dict"
      ],
      "execution_count": 0,
      "outputs": [
        {
          "output_type": "execute_result",
          "data": {
            "text/plain": [
              "{'age': 27,\n",
              " 'career': 'medical doctor cum data scientist',\n",
              " 'name': 'Taiye',\n",
              " 'sex': 'female',\n",
              " 'state': 'Oyo'}"
            ]
          },
          "metadata": {
            "tags": []
          },
          "execution_count": 4
        }
      ]
    },
    {
      "cell_type": "code",
      "metadata": {
        "id": "oJz5wYi5Nf0_",
        "colab_type": "code",
        "outputId": "31aac302-7feb-47fd-85f5-5226717486ef",
        "colab": {
          "base_uri": "https://localhost:8080/",
          "height": 127
        }
      },
      "source": [
        "my_dict['hobbies'] = 'football, learning about AI and how it can impact healthcare'\n",
        "my_dict"
      ],
      "execution_count": 0,
      "outputs": [
        {
          "output_type": "execute_result",
          "data": {
            "text/plain": [
              "{'age': 27,\n",
              " 'career': 'medical doctor cum data scientist',\n",
              " 'hobbies': 'football, learning about AI and how it can impact healthcare',\n",
              " 'name': 'Taiye',\n",
              " 'sex': 'female',\n",
              " 'state': 'Oyo'}"
            ]
          },
          "metadata": {
            "tags": []
          },
          "execution_count": 5
        }
      ]
    },
    {
      "cell_type": "code",
      "metadata": {
        "id": "fn8diVfgN4Oy",
        "colab_type": "code",
        "outputId": "6cf8e93c-c75d-48f5-8dd8-8f7771b86f55",
        "colab": {
          "base_uri": "https://localhost:8080/",
          "height": 55
        }
      },
      "source": [
        "my_dict.values()"
      ],
      "execution_count": 0,
      "outputs": [
        {
          "output_type": "execute_result",
          "data": {
            "text/plain": [
              "dict_values(['Taiye', 'Oyo', 'female', 27, 'medical doctor cum data scientist', 'football, learning about AI and how it can impact healthcare'])"
            ]
          },
          "metadata": {
            "tags": []
          },
          "execution_count": 6
        }
      ]
    },
    {
      "cell_type": "code",
      "metadata": {
        "id": "2NY-NdxXOnDS",
        "colab_type": "code",
        "outputId": "635d67b1-f619-40d1-9711-1d20d4e3a472",
        "colab": {
          "base_uri": "https://localhost:8080/",
          "height": 35
        }
      },
      "source": [
        "my_dict.keys()"
      ],
      "execution_count": 0,
      "outputs": [
        {
          "output_type": "execute_result",
          "data": {
            "text/plain": [
              "dict_keys(['name', 'state', 'sex', 'age', 'career', 'hobbies'])"
            ]
          },
          "metadata": {
            "tags": []
          },
          "execution_count": 7
        }
      ]
    },
    {
      "cell_type": "code",
      "metadata": {
        "id": "yFz3MsMPOrQV",
        "colab_type": "code",
        "outputId": "e7cbd262-b07c-4f7c-b6bb-6593ed7c65a9",
        "colab": {
          "base_uri": "https://localhost:8080/",
          "height": 55
        }
      },
      "source": [
        "my_dict.items()"
      ],
      "execution_count": 0,
      "outputs": [
        {
          "output_type": "execute_result",
          "data": {
            "text/plain": [
              "dict_items([('name', 'Taiye'), ('state', 'Oyo'), ('sex', 'female'), ('age', 27), ('career', 'medical doctor cum data scientist'), ('hobbies', 'football, learning about AI and how it can impact healthcare')])"
            ]
          },
          "metadata": {
            "tags": []
          },
          "execution_count": 8
        }
      ]
    },
    {
      "cell_type": "markdown",
      "metadata": {
        "id": "2sU3d7XAP_Dx",
        "colab_type": "text"
      },
      "source": [
        "Tuples"
      ]
    },
    {
      "cell_type": "code",
      "metadata": {
        "id": "FnGCoOmWOz7V",
        "colab_type": "code",
        "outputId": "3a931414-85d3-4b18-9055-9cce4289bd6d",
        "colab": {
          "base_uri": "https://localhost:8080/",
          "height": 35
        }
      },
      "source": [
        "my_tuple = ()\n",
        "type (my_tuple)"
      ],
      "execution_count": 0,
      "outputs": [
        {
          "output_type": "execute_result",
          "data": {
            "text/plain": [
              "tuple"
            ]
          },
          "metadata": {
            "tags": []
          },
          "execution_count": 9
        }
      ]
    },
    {
      "cell_type": "code",
      "metadata": {
        "id": "lbBQ6BRhQGT1",
        "colab_type": "code",
        "outputId": "218f68bb-ef10-497d-8c64-2dd0c4872217",
        "colab": {
          "base_uri": "https://localhost:8080/",
          "height": 35
        }
      },
      "source": [
        "my_tuple = ('taiye', 2, 'kehinde', 4)\n",
        "my_tuple"
      ],
      "execution_count": 0,
      "outputs": [
        {
          "output_type": "execute_result",
          "data": {
            "text/plain": [
              "('taiye', 2, 'kehinde', 4)"
            ]
          },
          "metadata": {
            "tags": []
          },
          "execution_count": 10
        }
      ]
    },
    {
      "cell_type": "code",
      "metadata": {
        "id": "3dhGQ6UsQW2i",
        "colab_type": "code",
        "outputId": "f825c95f-1fbd-427a-f640-e6c39dfbd3bc",
        "colab": {
          "base_uri": "https://localhost:8080/",
          "height": 35
        }
      },
      "source": [
        "my_tuple[0]"
      ],
      "execution_count": 0,
      "outputs": [
        {
          "output_type": "execute_result",
          "data": {
            "text/plain": [
              "'taiye'"
            ]
          },
          "metadata": {
            "tags": []
          },
          "execution_count": 11
        }
      ]
    },
    {
      "cell_type": "code",
      "metadata": {
        "id": "gFBTbZYUQb8F",
        "colab_type": "code",
        "outputId": "6a85d6ff-d340-480a-db44-76af3bbdd014",
        "colab": {
          "base_uri": "https://localhost:8080/",
          "height": 172
        }
      },
      "source": [
        "my_tuple.append(7)"
      ],
      "execution_count": 0,
      "outputs": [
        {
          "output_type": "error",
          "ename": "AttributeError",
          "evalue": "ignored",
          "traceback": [
            "\u001b[0;31m---------------------------------------------------------------------------\u001b[0m",
            "\u001b[0;31mAttributeError\u001b[0m                            Traceback (most recent call last)",
            "\u001b[0;32m<ipython-input-12-bfae475f6e56>\u001b[0m in \u001b[0;36m<module>\u001b[0;34m()\u001b[0m\n\u001b[0;32m----> 1\u001b[0;31m \u001b[0mmy_tuple\u001b[0m\u001b[0;34m.\u001b[0m\u001b[0mappend\u001b[0m\u001b[0;34m(\u001b[0m\u001b[0;36m7\u001b[0m\u001b[0;34m)\u001b[0m\u001b[0;34m\u001b[0m\u001b[0;34m\u001b[0m\u001b[0m\n\u001b[0m",
            "\u001b[0;31mAttributeError\u001b[0m: 'tuple' object has no attribute 'append'"
          ]
        }
      ]
    },
    {
      "cell_type": "code",
      "metadata": {
        "id": "vl_vgSL-QhNF",
        "colab_type": "code",
        "outputId": "3e31ac76-b78f-46b9-a7f0-9ff9833a495c",
        "colab": {
          "base_uri": "https://localhost:8080/",
          "height": 35
        }
      },
      "source": [
        "my_tuple[0:2]"
      ],
      "execution_count": 0,
      "outputs": [
        {
          "output_type": "execute_result",
          "data": {
            "text/plain": [
              "('taiye', 2)"
            ]
          },
          "metadata": {
            "tags": []
          },
          "execution_count": 13
        }
      ]
    },
    {
      "cell_type": "markdown",
      "metadata": {
        "id": "TTFZAKDfQqIX",
        "colab_type": "text"
      },
      "source": [
        "Sets"
      ]
    },
    {
      "cell_type": "code",
      "metadata": {
        "id": "2EutLh7iQn7l",
        "colab_type": "code",
        "outputId": "aa62babd-8088-4618-9909-ab6f1c826c6e",
        "colab": {
          "base_uri": "https://localhost:8080/",
          "height": 35
        }
      },
      "source": [
        "my_set = set()\n",
        "type (my_set)"
      ],
      "execution_count": 0,
      "outputs": [
        {
          "output_type": "execute_result",
          "data": {
            "text/plain": [
              "set"
            ]
          },
          "metadata": {
            "tags": []
          },
          "execution_count": 15
        }
      ]
    },
    {
      "cell_type": "code",
      "metadata": {
        "id": "wGa7ARvjQwOL",
        "colab_type": "code",
        "outputId": "402b4bc6-069b-4802-dfef-1d94b6947dc1",
        "colab": {
          "base_uri": "https://localhost:8080/",
          "height": 35
        }
      },
      "source": [
        "my_set = set (my_tuple)\n",
        "my_set"
      ],
      "execution_count": 0,
      "outputs": [
        {
          "output_type": "execute_result",
          "data": {
            "text/plain": [
              "{2, 4, 'kehinde', 'taiye'}"
            ]
          },
          "metadata": {
            "tags": []
          },
          "execution_count": 17
        }
      ]
    },
    {
      "cell_type": "code",
      "metadata": {
        "id": "UmAji0-rQ5qa",
        "colab_type": "code",
        "colab": {}
      },
      "source": [
        ""
      ],
      "execution_count": 0,
      "outputs": []
    }
  ]
}